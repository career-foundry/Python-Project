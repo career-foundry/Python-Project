{
 "cells": [
  {
   "cell_type": "markdown",
   "id": "8a3089a8-011c-4fab-8e81-7a9b573b04a4",
   "metadata": {},
   "source": [
    "# 1. Importing Libraries "
   ]
  },
  {
   "cell_type": "code",
   "execution_count": 1,
   "id": "ba8d68bc-3883-4630-a119-10517798107b",
   "metadata": {},
   "outputs": [],
   "source": [
    "# Import libraries\n",
    "import pandas as pd\n",
    "import numpy as np\n",
    "import os"
   ]
  },
  {
   "cell_type": "markdown",
   "id": "d315d7e7-ba3f-4ff2-9c1f-221dcdb74a6b",
   "metadata": {},
   "source": [
    "## 2. Data Types"
   ]
  },
  {
   "cell_type": "code",
   "execution_count": 20,
   "id": "d7ef3576-18e6-4142-946d-d37246f32d3a",
   "metadata": {},
   "outputs": [],
   "source": [
    "a=40"
   ]
  },
  {
   "cell_type": "code",
   "execution_count": 26,
   "id": "26d7fa8d-b3eb-4108-880f-04b7a131572e",
   "metadata": {},
   "outputs": [],
   "source": [
    "b=60"
   ]
  },
  {
   "cell_type": "code",
   "execution_count": 36,
   "id": "e3db21cd-e0c6-4cf5-907a-f658405999d1",
   "metadata": {},
   "outputs": [
    {
     "data": {
      "text/plain": [
       "100"
      ]
     },
     "execution_count": 36,
     "metadata": {},
     "output_type": "execute_result"
    }
   ],
   "source": [
    "result"
   ]
  },
  {
   "cell_type": "code",
   "execution_count": 38,
   "id": "949b1c3e-4c6e-413f-bd64-5de5997d3e29",
   "metadata": {},
   "outputs": [],
   "source": [
    "x=150"
   ]
  },
  {
   "cell_type": "code",
   "execution_count": 40,
   "id": "d37a3ff3-9280-4cbd-b40a-dbe52b03a978",
   "metadata": {},
   "outputs": [],
   "source": [
    "y=30"
   ]
  },
  {
   "cell_type": "code",
   "execution_count": 42,
   "id": "c7f0ae31-5e89-4bde-be5e-25bc674ba188",
   "metadata": {},
   "outputs": [],
   "source": [
    "z=20"
   ]
  },
  {
   "cell_type": "code",
   "execution_count": 44,
   "id": "f391bdb1-ffb9-4336-8c1d-0bb60ecbff09",
   "metadata": {},
   "outputs": [],
   "source": [
    "result=x-y-z"
   ]
  },
  {
   "cell_type": "code",
   "execution_count": 46,
   "id": "ca2ce8f2-3fc3-4326-9ebe-4262bda9e23b",
   "metadata": {},
   "outputs": [
    {
     "name": "stdout",
     "output_type": "stream",
     "text": [
      "100\n"
     ]
    }
   ],
   "source": [
    "print(result) "
   ]
  },
  {
   "cell_type": "code",
   "execution_count": 48,
   "id": "324ad850-be0e-4d35-9a37-22241316a6b2",
   "metadata": {},
   "outputs": [],
   "source": [
    "p=200"
   ]
  },
  {
   "cell_type": "code",
   "execution_count": 50,
   "id": "95a16f75-a08e-4341-853c-f785d0e839b9",
   "metadata": {},
   "outputs": [],
   "source": [
    "q=-50"
   ]
  },
  {
   "cell_type": "code",
   "execution_count": 52,
   "id": "ae57c507-0f74-4efb-b6cc-587d642a1ff0",
   "metadata": {},
   "outputs": [],
   "source": [
    "r=-50"
   ]
  },
  {
   "cell_type": "code",
   "execution_count": 54,
   "id": "54ccd559-92ab-4b89-85be-ba354432c5a1",
   "metadata": {},
   "outputs": [],
   "source": [
    "result=p+q+r"
   ]
  },
  {
   "cell_type": "code",
   "execution_count": 56,
   "id": "ee41c992-fb86-4d5c-aafa-704c34ccdf5d",
   "metadata": {},
   "outputs": [
    {
     "name": "stdout",
     "output_type": "stream",
     "text": [
      "100\n"
     ]
    }
   ],
   "source": [
    "print(result) "
   ]
  },
  {
   "cell_type": "code",
   "execution_count": 73,
   "id": "0906b421-b26f-46a2-adc9-0a3198be8e1b",
   "metadata": {},
   "outputs": [],
   "source": [
    "a = 15.5"
   ]
  },
  {
   "cell_type": "code",
   "execution_count": 75,
   "id": "aa17bd9a-147d-43d5-90cb-57805a753395",
   "metadata": {},
   "outputs": [],
   "source": [
    "b = 2.5"
   ]
  },
  {
   "cell_type": "code",
   "execution_count": 77,
   "id": "64c2cf15-8ab4-4717-aad0-48b2088f2cfb",
   "metadata": {},
   "outputs": [],
   "source": [
    "result = a / b"
   ]
  },
  {
   "cell_type": "code",
   "execution_count": 79,
   "id": "59ddace8-034b-4289-8e7c-94e2a155d407",
   "metadata": {},
   "outputs": [
    {
     "name": "stdout",
     "output_type": "stream",
     "text": [
      "6.2\n"
     ]
    }
   ],
   "source": [
    "print(result)"
   ]
  },
  {
   "cell_type": "code",
   "execution_count": 108,
   "id": "444d48d4-373f-43c9-9052-3a5294ab97c9",
   "metadata": {},
   "outputs": [],
   "source": [
    "s1 = 'c'"
   ]
  },
  {
   "cell_type": "code",
   "execution_count": 106,
   "id": "782cff07-b901-4a1f-a366-9717b4803dd8",
   "metadata": {},
   "outputs": [],
   "source": [
    "s2 = 'a'"
   ]
  },
  {
   "cell_type": "code",
   "execution_count": 102,
   "id": "1d69f43a-517f-4c41-9ce4-fbcefc8fb8c8",
   "metadata": {},
   "outputs": [],
   "source": [
    "s3 = 't'"
   ]
  },
  {
   "cell_type": "code",
   "execution_count": 110,
   "id": "ce0048d8-093c-4dd3-a70c-a973d705d73e",
   "metadata": {},
   "outputs": [
    {
     "data": {
      "text/plain": [
       "'cat'"
      ]
     },
     "execution_count": 110,
     "metadata": {},
     "output_type": "execute_result"
    }
   ],
   "source": [
    "s1 + s2 + s3"
   ]
  },
  {
   "cell_type": "code",
   "execution_count": 118,
   "id": "d90cb3df-e810-47b0-878b-dc06f7b55806",
   "metadata": {},
   "outputs": [],
   "source": [
    "s4 = 'I '"
   ]
  },
  {
   "cell_type": "code",
   "execution_count": 114,
   "id": "8d92e9d2-182a-4e52-ae7a-c46bf4771aa6",
   "metadata": {},
   "outputs": [],
   "source": [
    "s5 = 'run.'"
   ]
  },
  {
   "cell_type": "code",
   "execution_count": 120,
   "id": "0c0418f0-cd44-4a3d-8f07-78cd32be31d7",
   "metadata": {},
   "outputs": [
    {
     "data": {
      "text/plain": [
       "'I run.'"
      ]
     },
     "execution_count": 120,
     "metadata": {},
     "output_type": "execute_result"
    }
   ],
   "source": [
    "s4 + s5"
   ]
  },
  {
   "cell_type": "code",
   "execution_count": 122,
   "id": "cad9cc8a-5627-4da1-8836-5e093b11fff7",
   "metadata": {},
   "outputs": [],
   "source": [
    "s6 = 'It '"
   ]
  },
  {
   "cell_type": "code",
   "execution_count": 124,
   "id": "9ea86451-b965-4846-8a36-36e11a73ca5d",
   "metadata": {},
   "outputs": [],
   "source": [
    "s7 = 'rains.'"
   ]
  },
  {
   "cell_type": "code",
   "execution_count": 128,
   "id": "7d3ffb27-958e-49fe-a97e-cc34d3d42d0b",
   "metadata": {},
   "outputs": [
    {
     "data": {
      "text/plain": [
       "'It rains.'"
      ]
     },
     "execution_count": 128,
     "metadata": {},
     "output_type": "execute_result"
    }
   ],
   "source": [
    "s6+s7"
   ]
  },
  {
   "cell_type": "code",
   "execution_count": 142,
   "id": "f8d8450f-a748-4509-8a71-b7fe511f50ab",
   "metadata": {},
   "outputs": [],
   "source": [
    "funny_string = \"🐔 Why did the chicken cross the road? 🛣️ \""
   ]
  },
  {
   "cell_type": "code",
   "execution_count": 144,
   "id": "5ceb697a-5496-4473-921a-41e41d1ccf3f",
   "metadata": {},
   "outputs": [
    {
     "name": "stdout",
     "output_type": "stream",
     "text": [
      "🐔 Why did the chicken cross the road? 🛣️ 🐔 Why did the chicken cross the road? 🛣️ 🐔 Why did the chicken cross the road? 🛣️ 🐔 Why did the chicken cross the road? 🛣️ 🐔 Why did the chicken cross the road? 🛣️ 🐔 Why did the chicken cross the road? 🛣️ 🐔 Why did the chicken cross the road? 🛣️ 🐔 Why did the chicken cross the road? 🛣️ 🐔 Why did the chicken cross the road? 🛣️ 🐔 Why did the chicken cross the road? 🛣️ 🐔 Why did the chicken cross the road? 🛣️ 🐔 Why did the chicken cross the road? 🛣️ 🐔 Why did the chicken cross the road? 🛣️ 🐔 Why did the chicken cross the road? 🛣️ 🐔 Why did the chicken cross the road? 🛣️ 🐔 Why did the chicken cross the road? 🛣️ 🐔 Why did the chicken cross the road? 🛣️ 🐔 Why did the chicken cross the road? 🛣️ 🐔 Why did the chicken cross the road? 🛣️ 🐔 Why did the chicken cross the road? 🛣️ 🐔 Why did the chicken cross the road? 🛣️ 🐔 Why did the chicken cross the road? 🛣️ 🐔 Why did the chicken cross the road? 🛣️ 🐔 Why did the chicken cross the road? 🛣️ 🐔 Why did the chicken cross the road? 🛣️ 🐔 Why did the chicken cross the road? 🛣️ 🐔 Why did the chicken cross the road? 🛣️ 🐔 Why did the chicken cross the road? 🛣️ 🐔 Why did the chicken cross the road? 🛣️ 🐔 Why did the chicken cross the road? 🛣️ 🐔 Why did the chicken cross the road? 🛣️ 🐔 Why did the chicken cross the road? 🛣️ 🐔 Why did the chicken cross the road? 🛣️ 🐔 Why did the chicken cross the road? 🛣️ 🐔 Why did the chicken cross the road? 🛣️ 🐔 Why did the chicken cross the road? 🛣️ 🐔 Why did the chicken cross the road? 🛣️ 🐔 Why did the chicken cross the road? 🛣️ 🐔 Why did the chicken cross the road? 🛣️ 🐔 Why did the chicken cross the road? 🛣️ 🐔 Why did the chicken cross the road? 🛣️ 🐔 Why did the chicken cross the road? 🛣️ 🐔 Why did the chicken cross the road? 🛣️ 🐔 Why did the chicken cross the road? 🛣️ 🐔 Why did the chicken cross the road? 🛣️ 🐔 Why did the chicken cross the road? 🛣️ 🐔 Why did the chicken cross the road? 🛣️ 🐔 Why did the chicken cross the road? 🛣️ 🐔 Why did the chicken cross the road? 🛣️ 🐔 Why did the chicken cross the road? 🛣️ 🐔 Why did the chicken cross the road? 🛣️ 🐔 Why did the chicken cross the road? 🛣️ 🐔 Why did the chicken cross the road? 🛣️ 🐔 Why did the chicken cross the road? 🛣️ 🐔 Why did the chicken cross the road? 🛣️ 🐔 Why did the chicken cross the road? 🛣️ 🐔 Why did the chicken cross the road? 🛣️ 🐔 Why did the chicken cross the road? 🛣️ 🐔 Why did the chicken cross the road? 🛣️ 🐔 Why did the chicken cross the road? 🛣️ 🐔 Why did the chicken cross the road? 🛣️ 🐔 Why did the chicken cross the road? 🛣️ 🐔 Why did the chicken cross the road? 🛣️ 🐔 Why did the chicken cross the road? 🛣️ 🐔 Why did the chicken cross the road? 🛣️ 🐔 Why did the chicken cross the road? 🛣️ 🐔 Why did the chicken cross the road? 🛣️ 🐔 Why did the chicken cross the road? 🛣️ 🐔 Why did the chicken cross the road? 🛣️ 🐔 Why did the chicken cross the road? 🛣️ 🐔 Why did the chicken cross the road? 🛣️ 🐔 Why did the chicken cross the road? 🛣️ 🐔 Why did the chicken cross the road? 🛣️ 🐔 Why did the chicken cross the road? 🛣️ 🐔 Why did the chicken cross the road? 🛣️ 🐔 Why did the chicken cross the road? 🛣️ 🐔 Why did the chicken cross the road? 🛣️ 🐔 Why did the chicken cross the road? 🛣️ 🐔 Why did the chicken cross the road? 🛣️ 🐔 Why did the chicken cross the road? 🛣️ 🐔 Why did the chicken cross the road? 🛣️ 🐔 Why did the chicken cross the road? 🛣️ 🐔 Why did the chicken cross the road? 🛣️ 🐔 Why did the chicken cross the road? 🛣️ 🐔 Why did the chicken cross the road? 🛣️ 🐔 Why did the chicken cross the road? 🛣️ 🐔 Why did the chicken cross the road? 🛣️ 🐔 Why did the chicken cross the road? 🛣️ 🐔 Why did the chicken cross the road? 🛣️ 🐔 Why did the chicken cross the road? 🛣️ 🐔 Why did the chicken cross the road? 🛣️ 🐔 Why did the chicken cross the road? 🛣️ 🐔 Why did the chicken cross the road? 🛣️ 🐔 Why did the chicken cross the road? 🛣️ 🐔 Why did the chicken cross the road? 🛣️ 🐔 Why did the chicken cross the road? 🛣️ 🐔 Why did the chicken cross the road? 🛣️ 🐔 Why did the chicken cross the road? 🛣️ 🐔 Why did the chicken cross the road? 🛣️ 🐔 Why did the chicken cross the road? 🛣️ \n"
     ]
    }
   ],
   "source": [
    "print(funny_string * 100)"
   ]
  }
 ],
 "metadata": {
  "kernelspec": {
   "display_name": "Python [conda env:base] *",
   "language": "python",
   "name": "conda-base-py"
  },
  "language_info": {
   "codemirror_mode": {
    "name": "ipython",
    "version": 3
   },
   "file_extension": ".py",
   "mimetype": "text/x-python",
   "name": "python",
   "nbconvert_exporter": "python",
   "pygments_lexer": "ipython3",
   "version": "3.12.7"
  }
 },
 "nbformat": 4,
 "nbformat_minor": 5
}
